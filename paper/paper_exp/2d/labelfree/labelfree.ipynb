{
 "cells": [
  {
   "cell_type": "markdown",
   "metadata": {},
   "source": [
    "# Labelfree 2D\n",
    "As the downstream tasks for the image compression. From the brightfield image to the fluorescent image."
   ]
  },
  {
   "cell_type": "code",
   "execution_count": 1,
   "metadata": {
    "notebookRunGroups": {
     "groupValue": "1"
    }
   },
   "outputs": [
    {
     "name": "stderr",
     "output_type": "stream",
     "text": [
      "IProgress not found. Please update jupyter and ipywidgets. See https://ipywidgets.readthedocs.io/en/stable/user_install.html\n",
      "2023-10-16 10:32:56.671668: I tensorflow/core/platform/cpu_feature_guard.cc:182] This TensorFlow binary is optimized to use available CPU instructions in performance-critical operations.\n",
      "To enable the following instructions: AVX2 FMA, in other operations, rebuild TensorFlow with the appropriate compiler flags.\n"
     ]
    }
   ],
   "source": [
    "# import modules:\n",
    "from pathlib import Path\n",
    "import pandas as pd\n",
    "import warnings\n",
    "\n",
    "warnings.simplefilter(action=\"ignore\", category=FutureWarning)\n",
    "import numpy as np\n",
    "from aicsimageio import AICSImage\n",
    "from aicsimageio.writers import OmeTiffWriter\n",
    "from pathlib import Path\n",
    "import os\n",
    "import sys\n",
    "import numpy as np\n",
    "from skimage.metrics import structural_similarity as ssim\n",
    "from skimage.metrics import peak_signal_noise_ratio as psnr\n",
    "import monai\n",
    "import torch\n",
    "import random\n",
    "from datetime import datetime\n",
    "import shutil"
   ]
  },
  {
   "cell_type": "code",
   "execution_count": 5,
   "metadata": {
    "notebookRunGroups": {
     "groupValue": "1"
    }
   },
   "outputs": [],
   "source": [
    "# define funcs and hyper-parameters:\n",
    "\n",
    "_SEED = 2023\n",
    "np.random.seed(_SEED)\n",
    "random.seed(_SEED)\n",
    "os.environ[\"PYTHONHASHSEED\"] = str(_SEED)\n",
    "\n",
    "# firstly, use fine_tune_v12 to generate compressed images, and calculate metrics:\n",
    "test_data_path = sorted(\n",
    "    Path(\n",
    "        \"/mnt/eternus/users/Yu/project/data_compression/data/labelfree/FBL/holdout\"\n",
    "    ).glob(\"*IM.tiff\")\n",
    ")\n",
    "compress_data_path = Path.cwd()\n",
    "metrics = [\"ms-ssim\"]\n",
    "models = [\"bmshj2018-factorized\"]"
   ]
  },
  {
   "cell_type": "code",
   "execution_count": null,
   "metadata": {
    "notebookRunGroups": {
     "groupValue": "2"
    }
   },
   "outputs": [],
   "source": [
    "for model in models:\n",
    "    for metric in metrics:\n",
    "        for image in test_data_path: \n",
    "            model_name= model+'_'+metric+'_'+'8_v12'\n",
    "            path_encoded= compress_data_path/'prediction'/model_name/str(image.stem+'_encoded')\n",
    "            path_encoded.parent.mkdir(exist_ok=True, parents = True)\n",
    "            path_decoded= compress_data_path/'prediction'/model_name/str(image.stem+'_decoded.tiff')\n",
    "            path_decoded.parent.mkdir(exist_ok=True, parents = True)\n",
    "            if not path_decoded.is_file():\n",
    "                !python3 ../../../codec.py encode {image} -o {path_encoded} --model {model} -q 8 -m {metric} --cuda --checkpoint { \"/mnt/eternus/users/Yu/project/data_compression/experiment/paper_exp/2d/compression/bmshj2018-factorized_ms-ssim_8_v12/model.pth.tar\"}\n",
    "                # !python3 ../codec.py encode {image} -o {path_encoded} --model bmshj2018-factorized -q 8 -m {metric} --cuda\n",
    "                !python3 ../../../codec.py decode {path_encoded} -o {path_decoded} --model {model} -q 8 -m {metric} --cuda --checkpoint {\"/mnt/eternus/users/Yu/project/data_compression/experiment/paper_exp/2d/compression/bmshj2018-factorized_ms-ssim_8_v12/model.pth.tar\"}"
   ]
  },
  {
   "cell_type": "code",
   "execution_count": null,
   "metadata": {
    "notebookRunGroups": {
     "groupValue": ""
    }
   },
   "outputs": [],
   "source": [
    "# run the run_im2im inference code for compressed data.\n",
    "!run_im2im --config_path /mnt/eternus/users/Yu/project/data_compression/experiment/paper_exp/2d/labelfree/compressed_config.yaml"
   ]
  },
  {
   "cell_type": "code",
   "execution_count": null,
   "metadata": {},
   "outputs": [],
   "source": [
    "# run the run_im2im inference code for uncompressed data.\n",
    "!run_im2im --config_path /mnt/eternus/users/Yu/project/data_compression/experiment/paper_exp/2d/labelfree/uncompressed_config.yaml"
   ]
  }
 ],
 "metadata": {
  "kernelspec": {
   "display_name": "yz_compressAI",
   "language": "python",
   "name": "python3"
  },
  "language_info": {
   "codemirror_mode": {
    "name": "ipython",
    "version": 3
   },
   "file_extension": ".py",
   "mimetype": "text/x-python",
   "name": "python",
   "nbconvert_exporter": "python",
   "pygments_lexer": "ipython3",
   "version": "3.8.17"
  }
 },
 "nbformat": 4,
 "nbformat_minor": 2
}
