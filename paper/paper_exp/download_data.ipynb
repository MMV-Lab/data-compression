{
 "cells": [
  {
   "cell_type": "markdown",
   "metadata": {},
   "source": [
    "This notebook will download 3D data from the hiPSC single cell image dataset from the Allen Institute for Cell Science: https://open.quiltdata.com/b/allencell/packages/aics/hipsc_single_cell_image_dataset. \n",
    "\n",
    "Original publication of the data: \n",
    "Viana, M.P., Chen, J., Knijnenburg, T.A. et al. Integrated intracellular organization and its variations in human iPS cells. Nature 613, 345–354 (2023). https://doi.org/10.1038/s41586-022-05563-7.\n",
    "\n",
    "We extract the middle slice from each 3D image to form 2D dataset."
   ]
  },
  {
   "cell_type": "code",
   "execution_count": null,
   "metadata": {},
   "outputs": [],
   "source": [
    "# you need quilt3 package to download the data:\n",
    "! pip install quilt3"
   ]
  },
  {
   "cell_type": "code",
   "execution_count": 3,
   "metadata": {},
   "outputs": [],
   "source": [
    "import pandas as pd\n",
    "import quilt3\n",
    "from pathlib import Path\n",
    "from aicsimageio import AICSImage\n",
    "from aicsimageio.writers import OmeTiffWriter\n",
    "import random\n",
    "random.seed(0)"
   ]
  },
  {
   "cell_type": "code",
   "execution_count": 4,
   "metadata": {},
   "outputs": [],
   "source": [
    "# turn off pandas parser warnings\n",
    "import warnings\n",
    "warnings.simplefilter(action='ignore', category=FutureWarning)\n",
    "# tunr off ome_types parser warning\n",
    "warnings.filterwarnings(\"ignore\", category=FutureWarning)"
   ]
  },
  {
   "cell_type": "code",
   "execution_count": 6,
   "metadata": {},
   "outputs": [],
   "source": [
    "# set parameters\n",
    "\n",
    "# which cell line to download: in the paper, we tested on four nuclear structures:\n",
    "# - fibrillarin (cline = \"FBL\")\n",
    "# - nucleophosmin (cline = \"NPM1\")\n",
    "# - lamin b1 (cline = \"LMNB1\")\n",
    "# - histon H2B (cline = \"HIST1H2BJ\")\n",
    "cline = \"FBL\"\n",
    "num_samples_per_cell_line = 500 # with roughly 80/20 training/validation split \n",
    "\n",
    "# set up path 3D\n",
    "parent_path_3d = Path(\"../../data/labelfree3D\") / f\"{cline}\"\n",
    "parent_path_3d.mkdir(exist_ok=True,parents=True)\n",
    "raw_path_3d = parent_path_3d / Path(\"download\")\n",
    "raw_path_3d.mkdir(exist_ok=True)\n",
    "train_path_3d = parent_path_3d / Path(\"train\")\n",
    "train_path_3d.mkdir(exist_ok=True)\n",
    "holdout_path_3d = parent_path_3d / Path(\"holdout\")\n",
    "holdout_path_3d.mkdir(exist_ok=True)\n",
    "\n",
    "# set up path 2D\n",
    "parent_path_2d = Path(\"../../data/labelfree2D\") / f\"{cline}\"\n",
    "parent_path_2d.mkdir(exist_ok=True,parents=True)\n",
    "train_path_2d = parent_path_2d / Path(\"train\")\n",
    "train_path_2d.mkdir(exist_ok=True)\n",
    "holdout_path_2d = parent_path_2d / Path(\"holdout\")\n",
    "holdout_path_2d.mkdir(exist_ok=True)"
   ]
  },
  {
   "cell_type": "code",
   "execution_count": null,
   "metadata": {},
   "outputs": [],
   "source": [
    "# connect to quilt and load meta table\n",
    "pkg = quilt3.Package.browse(\n",
    "    \"aics/hipsc_single_cell_image_dataset\", registry=\"s3://allencell\"\n",
    ")\n",
    "meta_df_obj = pkg[\"metadata.csv\"]\n",
    "meta_df_obj.fetch(parent_path_3d / \"meta.csv\")\n",
    "meta_df = pd.read_csv(parent_path_3d / \"meta.csv\")\n",
    "\n",
    "# fetch the data of the specific cell line\n",
    "meta_df_line = meta_df.query(\"structure_name==@cline\")\n",
    "\n",
    "# collapse the data table based on FOVId\n",
    "meta_df_line.drop_duplicates(subset=\"FOVId\", inplace=True)\n",
    "\n",
    "# reset index\n",
    "meta_df_line.reset_index(drop=True, inplace=True)"
   ]
  },
  {
   "cell_type": "code",
   "execution_count": null,
   "metadata": {},
   "outputs": [],
   "source": [
    "# download the images and re-slice into input (BF) and ground truth (fluorescent) images。\n",
    "# takes around 4 hours\n",
    "for row in meta_df_line.itertuples():\n",
    "    if row.Index >= num_samples_per_cell_line:\n",
    "        break\n",
    "    \n",
    "    # fetch the raw image (multi-channel)\n",
    "    subdir_name = row.fov_path.split(\"/\")[0]\n",
    "    file_name = row.fov_path.split(\"/\")[1]\n",
    "\n",
    "    local_fn = raw_path_3d / f\"{row.FOVId}_original.tiff\"\n",
    "    pkg[subdir_name][file_name].fetch(local_fn)\n",
    "\n",
    "    # extract the bf and structures channel\n",
    "    reader = AICSImage(local_fn)\n",
    "    bf_img = reader.get_image_data(\n",
    "        \"ZYX\", C=row.ChannelNumberBrightfield, S=0, T=0\n",
    "    )\n",
    "    str_img = reader.get_image_data(\n",
    "        \"ZYX\", C=row.ChannelNumberStruct, S=0, T=0\n",
    "    )\n",
    "\n",
    "    if random.random() < 0.2:\n",
    "        data_path_3d = holdout_path_3d\n",
    "        data_path_2d = holdout_path_2d\n",
    "    else:\n",
    "        data_path_3d = train_path_3d\n",
    "        data_path_2d = train_path_2d\n",
    "\n",
    "    im_fn = data_path_3d / f\"{row.FOVId}_IM.tiff\"\n",
    "    gt_fn = data_path_3d / f\"{row.FOVId}_GT.tiff\"\n",
    "    OmeTiffWriter.save(bf_img, im_fn, dim_order=\"ZYX\")\n",
    "    OmeTiffWriter.save(str_img, gt_fn, dim_order=\"ZYX\")\n",
    "    \n",
    "    # extract the middle slice from each 3D image\n",
    "    middle_slice_index = bf_img.shape[0] // 2\n",
    "    bf_img_2d = bf_img[middle_slice_index, :, :]\n",
    "    str_img_2d = str_img[middle_slice_index, :, :]\n",
    "    im_fn = data_path_2d / f\"{row.FOVId}_IM.tiff\"\n",
    "    gt_fn = data_path_2d / f\"{row.FOVId}_GT.tiff\"\n",
    "    OmeTiffWriter.save(bf_img_2d, im_fn, dim_order=\"YX\")\n",
    "    OmeTiffWriter.save(str_img_2d, gt_fn, dim_order=\"YX\")\n"
   ]
  },
  {
   "cell_type": "code",
   "execution_count": 9,
   "metadata": {},
   "outputs": [],
   "source": [
    "# you may remove the download folder now.\n",
    "from shutil import rmtree\n",
    "import os\n",
    "rmtree(raw_path_3d)\n",
    "os.remove(parent_path_3d / \"meta.csv\")"
   ]
  }
 ],
 "metadata": {
  "kernelspec": {
   "display_name": "yz_compressAI",
   "language": "python",
   "name": "python3"
  },
  "language_info": {
   "codemirror_mode": {
    "name": "ipython",
    "version": 3
   },
   "file_extension": ".py",
   "mimetype": "text/x-python",
   "name": "python",
   "nbconvert_exporter": "python",
   "pygments_lexer": "ipython3",
   "version": "3.8.17"
  }
 },
 "nbformat": 4,
 "nbformat_minor": 2
}
